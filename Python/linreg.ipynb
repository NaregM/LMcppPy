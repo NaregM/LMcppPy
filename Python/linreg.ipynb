{
 "cells": [
  {
   "cell_type": "markdown",
   "metadata": {},
   "source": [
    "# Linear Regression in C++ and Python\n",
    "\n",
    "Add equations ..."
   ]
  },
  {
   "cell_type": "code",
   "execution_count": 4,
   "metadata": {},
   "outputs": [],
   "source": [
    "import numpy as np\n",
    "import pandas as pd\n",
    "import matplotlib.pyplot as plt\n",
    "\n",
    "import seaborn as sns\n",
    "import statsmodels.api as sm\n",
    "from scipy import stats\n",
    "\n",
    "sns.set_style(\"darkgrid\")\n",
    "\n",
    "%matplotlib inline"
   ]
  },
  {
   "cell_type": "code",
   "execution_count": 2,
   "metadata": {},
   "outputs": [
    {
     "name": "stdout",
     "output_type": "stream",
     "text": [
      "g++ -I. -o results.out main.o linreg.o\r\n"
     ]
    }
   ],
   "source": [
    "# In order to see the C++ program results inside the notebook run make\n",
    "!make"
   ]
  },
  {
   "cell_type": "code",
   "execution_count": 3,
   "metadata": {},
   "outputs": [
    {
     "name": "stdout",
     "output_type": "stream",
     "text": [
      "Intercept = 6.19489\r\n",
      "Slope = 0.943159\r\n",
      "Chi2 = 6918.97\r\n",
      "x_mean = 39.5\r\n",
      "x_std = 17.3181\r\n",
      "y_mean = 43.4497\r\n",
      "y_std = 19.5475\r\n",
      "R-squared = 0.698209\r\n",
      "r-value = 0.835589\r\n"
     ]
    }
   ],
   "source": [
    "# C++ results, created by executing Makefile \n",
    "!./results.out"
   ]
  },
  {
   "cell_type": "code",
   "execution_count": 12,
   "metadata": {},
   "outputs": [],
   "source": [
    "path = !pwd\n",
    "data = pd.read_csv('%s/data.txt' % path[0], header = None)"
   ]
  },
  {
   "cell_type": "code",
   "execution_count": 32,
   "metadata": {},
   "outputs": [
    {
     "name": "stdout",
     "output_type": "stream",
     "text": [
      "Intercept:  6.194880421783818\n",
      "                            OLS Regression Results                            \n",
      "==============================================================================\n",
      "Dep. Variable:                      y   R-squared:                       0.698\n",
      "Model:                            OLS   Adj. R-squared:                  0.693\n",
      "Method:                 Least Squares   F-statistic:                     134.2\n",
      "Date:                Thu, 03 Oct 2019   Prob (F-statistic):           1.01e-16\n",
      "Time:                        12:08:59   Log-Likelihood:                -227.57\n",
      "No. Observations:                  60   AIC:                             459.1\n",
      "Df Residuals:                      58   BIC:                             463.3\n",
      "Df Model:                           1                                         \n",
      "Covariance Type:            nonrobust                                         \n",
      "==============================================================================\n",
      "                 coef    std err          t      P>|t|      [0.025      0.975]\n",
      "------------------------------------------------------------------------------\n",
      "const          6.1949      3.512      1.764      0.083      -0.834      13.224\n",
      "x1             0.9432      0.081     11.584      0.000       0.780       1.106\n",
      "==============================================================================\n",
      "Omnibus:                        0.090   Durbin-Watson:                   2.160\n",
      "Prob(Omnibus):                  0.956   Jarque-Bera (JB):                0.274\n",
      "Skew:                           0.050   Prob(JB):                        0.872\n",
      "Kurtosis:                       2.685   Cond. No.                         107.\n",
      "==============================================================================\n",
      "\n",
      "Warnings:\n",
      "[1] Standard Errors assume that the covariance matrix of the errors is correctly specified.\n"
     ]
    }
   ],
   "source": [
    "x = data.iloc[:,0].values\n",
    "x = sm.add_constant(x)   # Add intercept for linear regression\n",
    "y = data.iloc[:,1].values\n",
    "\n",
    "model = sm.OLS(y, x)\n",
    "results = model.fit()\n",
    "\n",
    "print('Intercept: ', results.params[0])\n",
    "print('Slope: ', results.params[1])\n",
    "\n",
    "df = pd.DataFrame({'x': x[:, 1], 'y': y})    # Ignore the added constant for intercept\n",
    "print(results.summary())\n",
    "\n",
    "# ==========================================================================================================================\n"
   ]
  },
  {
   "cell_type": "code",
   "execution_count": 28,
   "metadata": {},
   "outputs": [
    {
     "data": {
      "image/png": "[encoded data removed]",
      "text/plain": [
       "<Figure size 360x360 with 1 Axes>"
      ]
     },
     "metadata": {
      "needs_background": "light"
     },
     "output_type": "display_data"
    }
   ],
   "source": [
    "# Plot using seaborn\n",
    "sns.lmplot('x', 'y', data = df, ci = 95, height = 5, aspect = 1.0, line_kws = {'color': 'C1'})\n",
    "plt.margins(0.1);"
   ]
  },
  {
   "cell_type": "code",
   "execution_count": 33,
   "metadata": {},
   "outputs": [
    {
     "name": "stdout",
     "output_type": "stream",
     "text": [
      "Intercept:  6.194880421783865\n",
      "Slope:  0.9431588627396496\n"
     ]
    }
   ],
   "source": [
    "# Based on the equations\n",
    "\n",
    "sigma = np.ones(x[:, 1].size)\n",
    "S = sum(1/sigma**2)\n",
    "Sx = sum(x[:, 1]/sigma**2)\n",
    "Sy = sum(y/sigma**2)\n",
    "Sx2 = sum(x[:, 1]**2 / sigma**2)\n",
    "Sxy = sum(y * x[:, 1]/sigma**2)\n",
    "\n",
    "a1 = (Sy * Sx2 - Sx * Sxy)/(S*Sx2 - (Sx)**2)\n",
    "a2 = (S * Sxy - Sx * Sy)/(S*Sx2 - (Sx)**2)\n",
    "\n",
    "print('Intercept: ', a1)\n",
    "print('Slope: ', a2)\n"
   ]
  },
  {
   "cell_type": "code",
   "execution_count": null,
   "metadata": {},
   "outputs": [],
   "source": []
  },
  {
   "cell_type": "code",
   "execution_count": null,
   "metadata": {},
   "outputs": [],
   "source": []
  },
  {
   "cell_type": "code",
   "execution_count": null,
   "metadata": {},
   "outputs": [],
   "source": []
  },
  {
   "cell_type": "code",
   "execution_count": null,
   "metadata": {},
   "outputs": [],
   "source": []
  },
  {
   "cell_type": "code",
   "execution_count": null,
   "metadata": {},
   "outputs": [],
   "source": []
  },
  {
   "cell_type": "code",
   "execution_count": null,
   "metadata": {},
   "outputs": [],
   "source": []
  },
  {
   "cell_type": "code",
   "execution_count": null,
   "metadata": {},
   "outputs": [],
   "source": []
  },
  {
   "cell_type": "code",
   "execution_count": null,
   "metadata": {},
   "outputs": [],
   "source": []
  },
  {
   "cell_type": "code",
   "execution_count": null,
   "metadata": {},
   "outputs": [],
   "source": []
  },
  {
   "cell_type": "code",
   "execution_count": null,
   "metadata": {},
   "outputs": [],
   "source": []
  },
  {
   "cell_type": "code",
   "execution_count": null,
   "metadata": {},
   "outputs": [],
   "source": []
  },
  {
   "cell_type": "code",
   "execution_count": null,
   "metadata": {},
   "outputs": [],
   "source": []
  },
  {
   "cell_type": "code",
   "execution_count": null,
   "metadata": {},
   "outputs": [],
   "source": []
  },
  {
   "cell_type": "code",
   "execution_count": null,
   "metadata": {},
   "outputs": [],
   "source": []
  }
 ],
 "metadata": {
  "kernelspec": {
   "display_name": "Python 3",
   "language": "python",
   "name": "python3"
  },
  "language_info": {
   "codemirror_mode": {
    "name": "ipython",
    "version": 3
   },
   "file_extension": ".py",
   "mimetype": "text/x-python",
   "name": "python",
   "nbconvert_exporter": "python",
   "pygments_lexer": "ipython3",
   "version": "3.6.8"
  },
  "toc": {
   "base_numbering": 1,
   "nav_menu": {},
   "number_sections": true,
   "sideBar": true,
   "skip_h1_title": false,
   "title_cell": "Table of Contents",
   "title_sidebar": "Contents",
   "toc_cell": false,
   "toc_position": {},
   "toc_section_display": true,
   "toc_window_display": false
  }
 },
 "nbformat": 4,
 "nbformat_minor": 2
}
